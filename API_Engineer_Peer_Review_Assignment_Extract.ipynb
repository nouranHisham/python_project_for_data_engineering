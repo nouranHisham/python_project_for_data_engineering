{
 "cells": [
  {
   "cell_type": "markdown",
   "metadata": {},
   "source": [
    "<p style=\"text-align:center\">\n",
    "    <a href=\"https://skills.network/?utm_medium=Exinfluencer&utm_source=Exinfluencer&utm_content=000026UJ&utm_term=10006555&utm_id=NA-SkillsNetwork-Channel-SkillsNetworkCoursesIBMDeveloperSkillsNetworkPY0221ENSkillsNetwork899-2023-01-01\">\n",
    "    <img src=\"https://cf-courses-data.s3.us.cloud-object-storage.appdomain.cloud/assets/logos/SN_web_lightmode.png\" width=\"200\" alt=\"Skills Network Logo\"  />\n",
    "    </a>\n",
    "</p>\n"
   ]
  },
  {
   "cell_type": "markdown",
   "metadata": {},
   "source": [
    "# Peer Review Assignment - Data Engineer - Extract API Data\n"
   ]
  },
  {
   "cell_type": "markdown",
   "metadata": {},
   "source": [
    "Estimated time needed: **20** minutes\n"
   ]
  },
  {
   "cell_type": "markdown",
   "metadata": {},
   "source": [
    "## Objectives\n",
    "\n",
    "In this part you will:\n",
    "\n",
    "-   Collect exchange rate data using an API\n",
    "-   Store the data as a CSV\n"
   ]
  },
  {
   "cell_type": "markdown",
   "metadata": {},
   "source": [
    "For this lab, we are going to be using Python and several Python libraries. Some of these libraries might be installed in your lab environment or in SN Labs. Others may need to be installed by you. The cells below will install these libraries when executed.\n"
   ]
  },
  {
   "cell_type": "code",
   "execution_count": 1,
   "metadata": {
    "tags": []
   },
   "outputs": [],
   "source": [
    "#!mamba install pandas==1.3.3 -y\n",
    "#!mamba install requests==2.26.0 -y"
   ]
  },
  {
   "cell_type": "markdown",
   "metadata": {},
   "source": [
    "## Imports\n",
    "\n",
    "Import any additional libraries you may need here.\n"
   ]
  },
  {
   "cell_type": "code",
   "execution_count": 5,
   "metadata": {
    "tags": []
   },
   "outputs": [],
   "source": [
    "import requests\n",
    "import pandas as pd\n",
    "import json"
   ]
  },
  {
   "cell_type": "markdown",
   "metadata": {},
   "source": [
    "## Extract Data Using an API\n"
   ]
  },
  {
   "cell_type": "markdown",
   "metadata": {},
   "source": [
    "Using ExchangeRate-API we will extract currency exchange rate data. Use the below steps to get the access key and to get the data. \n",
    "1. Open the url : https://exchangeratesapi.io/ and click on **Get Free API Key**. \n",
    "2. Subscribe for Free plan and Sign-in with the Google Account. \n",
    "3. Once the account is created you will be redirected to https://apilayer.com website.\n",
    "2. Now, click on the **user icon** and click **Account** as shown below:\n",
    "\n",
    "<img src=\"https://cf-courses-data.s3.us.cloud-object-storage.appdomain.cloud/IBMDeveloperSkillsNetwork-PY0221EN-SkillsNetwork/labs/module%206/Final%20Assignment/Images/account.png\">\n",
    "\n",
    "3. Scroll down and you will get the API Key section. Copy the API key and use in the url in Question 1.\n"
   ]
  },
  {
   "cell_type": "markdown",
   "metadata": {},
   "source": [
    "### Call the API\n",
    "\n",
    " <b> Question 1</b> Using the `requests` library call the endpoint given above and save the text, remember the first few characters of the output: \n"
   ]
  },
  {
   "cell_type": "code",
   "execution_count": 11,
   "metadata": {
    "tags": []
   },
   "outputs": [
    {
     "data": {
      "text/plain": [
       "{'success': True,\n",
       " 'timestamp': 1694509503,\n",
       " 'base': 'EUR',\n",
       " 'date': '2023-09-12',\n",
       " 'rates': {'AED': 3.937787,\n",
       "  'AFN': 83.658613,\n",
       "  'ALL': 106.7695,\n",
       "  'AMD': 412.507531,\n",
       "  'ANG': 1.930033,\n",
       "  'AOA': 887.142872,\n",
       "  'ARS': 375.196099,\n",
       "  'AUD': 1.668211,\n",
       "  'AWG': 1.932416,\n",
       "  'AZN': 1.820171,\n",
       "  'BAM': 1.951569,\n",
       "  'BBD': 2.162212,\n",
       "  'BDT': 117.535162,\n",
       "  'BGN': 1.956001,\n",
       "  'BHD': 0.404159,\n",
       "  'BIF': 3032.937189,\n",
       "  'BMD': 1.072076,\n",
       "  'BND': 1.457594,\n",
       "  'BOB': 7.39999,\n",
       "  'BRL': 5.286298,\n",
       "  'BSD': 1.070888,\n",
       "  'BTC': 4.1549269e-05,\n",
       "  'BTN': 88.821034,\n",
       "  'BWP': 14.590501,\n",
       "  'BYN': 2.703039,\n",
       "  'BYR': 21012.680595,\n",
       "  'BZD': 2.15862,\n",
       "  'CAD': 1.456146,\n",
       "  'CDF': 2675.900386,\n",
       "  'CHF': 0.955568,\n",
       "  'CLF': 0.034647,\n",
       "  'CLP': 956.022997,\n",
       "  'CNY': 7.812429,\n",
       "  'COP': 4274.901218,\n",
       "  'CRC': 574.554259,\n",
       "  'CUC': 1.072076,\n",
       "  'CUP': 28.410002,\n",
       "  'CVE': 110.026954,\n",
       "  'CZK': 24.614,\n",
       "  'DJF': 190.676578,\n",
       "  'DKK': 7.459721,\n",
       "  'DOP': 60.828113,\n",
       "  'DZD': 147.203462,\n",
       "  'EGP': 33.162947,\n",
       "  'ERN': 16.081133,\n",
       "  'ETB': 59.200442,\n",
       "  'EUR': 1,\n",
       "  'FJD': 2.430556,\n",
       "  'FKP': 0.855877,\n",
       "  'GBP': 0.859767,\n",
       "  'GEL': 2.803502,\n",
       "  'GGP': 0.855877,\n",
       "  'GHS': 12.288414,\n",
       "  'GIP': 0.855877,\n",
       "  'GMD': 64.861296,\n",
       "  'GNF': 9193.409988,\n",
       "  'GTQ': 8.433753,\n",
       "  'GYD': 224.224884,\n",
       "  'HKD': 8.394737,\n",
       "  'HNL': 26.380802,\n",
       "  'HRK': 7.378882,\n",
       "  'HTG': 144.581914,\n",
       "  'HUF': 386.05249,\n",
       "  'IDR': 16456.359547,\n",
       "  'ILS': 4.062899,\n",
       "  'IMP': 0.855877,\n",
       "  'INR': 88.89275,\n",
       "  'IQD': 1402.459207,\n",
       "  'IRR': 45311.27294,\n",
       "  'ISK': 143.701094,\n",
       "  'JEP': 0.855877,\n",
       "  'JMD': 165.301595,\n",
       "  'JOD': 0.759138,\n",
       "  'JPY': 157.370259,\n",
       "  'KES': 157.053191,\n",
       "  'KGS': 94.760943,\n",
       "  'KHR': 4427.56541,\n",
       "  'KMF': 491.278855,\n",
       "  'KPW': 964.82534,\n",
       "  'KRW': 1423.284897,\n",
       "  'KWD': 0.330885,\n",
       "  'KYD': 0.892465,\n",
       "  'KZT': 495.5755,\n",
       "  'LAK': 21241.94351,\n",
       "  'LBP': 16095.701521,\n",
       "  'LKR': 345.910003,\n",
       "  'LRD': 199.781764,\n",
       "  'LSL': 20.3641,\n",
       "  'LTL': 3.16556,\n",
       "  'LVL': 0.648488,\n",
       "  'LYD': 5.199774,\n",
       "  'MAD': 10.91758,\n",
       "  'MDL': 19.249264,\n",
       "  'MGA': 4835.560708,\n",
       "  'MKD': 61.619629,\n",
       "  'MMK': 2248.944846,\n",
       "  'MNT': 3725.25469,\n",
       "  'MOP': 8.640466,\n",
       "  'MRO': 382.730784,\n",
       "  'MUR': 48.38702,\n",
       "  'MVR': 16.574321,\n",
       "  'MWK': 1177.158681,\n",
       "  'MXN': 18.554926,\n",
       "  'MYR': 5.014636,\n",
       "  'MZN': 67.808724,\n",
       "  'NAD': 20.364089,\n",
       "  'NGN': 833.529303,\n",
       "  'NIO': 39.186498,\n",
       "  'NOK': 11.441962,\n",
       "  'NPR': 142.112873,\n",
       "  'NZD': 1.815558,\n",
       "  'OMR': 0.412734,\n",
       "  'PAB': 1.070883,\n",
       "  'PEN': 3.982665,\n",
       "  'PGK': 3.919502,\n",
       "  'PHP': 60.740565,\n",
       "  'PKR': 318.650179,\n",
       "  'PLN': 4.680344,\n",
       "  'PYG': 7778.135553,\n",
       "  'QAR': 3.903419,\n",
       "  'RON': 4.96575,\n",
       "  'RSD': 117.283982,\n",
       "  'RUB': 101.823057,\n",
       "  'RWF': 1289.703682,\n",
       "  'SAR': 4.021203,\n",
       "  'SBD': 9.010113,\n",
       "  'SCR': 14.005464,\n",
       "  'SDG': 644.199139,\n",
       "  'SEK': 11.891264,\n",
       "  'SGD': 1.459743,\n",
       "  'SHP': 1.304448,\n",
       "  'SLE': 23.747871,\n",
       "  'SLL': 21173.491843,\n",
       "  'SOS': 610.553766,\n",
       "  'SSP': 644.903487,\n",
       "  'SRD': 41.242209,\n",
       "  'STD': 22189.799177,\n",
       "  'SYP': 13938.105485,\n",
       "  'SZL': 20.263254,\n",
       "  'THB': 38.181981,\n",
       "  'TJS': 11.780014,\n",
       "  'TMT': 3.752264,\n",
       "  'TND': 3.341655,\n",
       "  'TOP': 2.56403,\n",
       "  'TRY': 28.832759,\n",
       "  'TTD': 7.267243,\n",
       "  'TWD': 34.348549,\n",
       "  'TZS': 2685.549759,\n",
       "  'UAH': 39.54403,\n",
       "  'UGX': 3984.379705,\n",
       "  'USD': 1.072076,\n",
       "  'UYU': 40.731876,\n",
       "  'UZS': 13025.757731,\n",
       "  'VEF': 3569592.688384,\n",
       "  'VES': 35.698454,\n",
       "  'VND': 25836.484489,\n",
       "  'VUV': 131.071699,\n",
       "  'WST': 2.995802,\n",
       "  'XAF': 654.53784,\n",
       "  'XAG': 0.046502,\n",
       "  'XAU': 0.000558,\n",
       "  'XCD': 2.897338,\n",
       "  'XDR': 0.811348,\n",
       "  'XOF': 654.543932,\n",
       "  'XPF': 119.535474,\n",
       "  'YER': 268.394402,\n",
       "  'ZAR': 20.258261,\n",
       "  'ZMK': 9649.967959,\n",
       "  'ZMW': 22.408414,\n",
       "  'ZWL': 345.207887}}"
      ]
     },
     "execution_count": 11,
     "metadata": {},
     "output_type": "execute_result"
    }
   ],
   "source": [
    "# Write your code here\n",
    "url = \"http://api.exchangeratesapi.io/v1/latest?base=EUR&access_key=c4e4237a17b9ee2ba68c5acca7a74701\"  #Make sure to change ******* to your API key.\n",
    "data = json.loads(requests.get(url).text)\n",
    "data"
   ]
  },
  {
   "cell_type": "markdown",
   "metadata": {},
   "source": [
    "### Save as DataFrame\n",
    "\n",
    " <b> Question 2</b>  Using the data gathered turn it into a `pandas` dataframe. The dataframe should have the Currency as the index and `Rate` as their columns. Make sure to drop unnecessary columns.\n"
   ]
  },
  {
   "cell_type": "code",
   "execution_count": 20,
   "metadata": {
    "tags": []
   },
   "outputs": [
    {
     "data": {
      "text/html": [
       "<div>\n",
       "<style scoped>\n",
       "    .dataframe tbody tr th:only-of-type {\n",
       "        vertical-align: middle;\n",
       "    }\n",
       "\n",
       "    .dataframe tbody tr th {\n",
       "        vertical-align: top;\n",
       "    }\n",
       "\n",
       "    .dataframe thead th {\n",
       "        text-align: right;\n",
       "    }\n",
       "</style>\n",
       "<table border=\"1\" class=\"dataframe\">\n",
       "  <thead>\n",
       "    <tr style=\"text-align: right;\">\n",
       "      <th></th>\n",
       "      <th>success</th>\n",
       "      <th>timestamp</th>\n",
       "      <th>base</th>\n",
       "      <th>date</th>\n",
       "      <th>rates</th>\n",
       "    </tr>\n",
       "  </thead>\n",
       "  <tbody>\n",
       "    <tr>\n",
       "      <th>AED</th>\n",
       "      <td>True</td>\n",
       "      <td>1694509503</td>\n",
       "      <td>EUR</td>\n",
       "      <td>2023-09-12</td>\n",
       "      <td>3.937787</td>\n",
       "    </tr>\n",
       "    <tr>\n",
       "      <th>AFN</th>\n",
       "      <td>True</td>\n",
       "      <td>1694509503</td>\n",
       "      <td>EUR</td>\n",
       "      <td>2023-09-12</td>\n",
       "      <td>83.658613</td>\n",
       "    </tr>\n",
       "    <tr>\n",
       "      <th>ALL</th>\n",
       "      <td>True</td>\n",
       "      <td>1694509503</td>\n",
       "      <td>EUR</td>\n",
       "      <td>2023-09-12</td>\n",
       "      <td>106.769500</td>\n",
       "    </tr>\n",
       "    <tr>\n",
       "      <th>AMD</th>\n",
       "      <td>True</td>\n",
       "      <td>1694509503</td>\n",
       "      <td>EUR</td>\n",
       "      <td>2023-09-12</td>\n",
       "      <td>412.507531</td>\n",
       "    </tr>\n",
       "    <tr>\n",
       "      <th>ANG</th>\n",
       "      <td>True</td>\n",
       "      <td>1694509503</td>\n",
       "      <td>EUR</td>\n",
       "      <td>2023-09-12</td>\n",
       "      <td>1.930033</td>\n",
       "    </tr>\n",
       "    <tr>\n",
       "      <th>...</th>\n",
       "      <td>...</td>\n",
       "      <td>...</td>\n",
       "      <td>...</td>\n",
       "      <td>...</td>\n",
       "      <td>...</td>\n",
       "    </tr>\n",
       "    <tr>\n",
       "      <th>YER</th>\n",
       "      <td>True</td>\n",
       "      <td>1694509503</td>\n",
       "      <td>EUR</td>\n",
       "      <td>2023-09-12</td>\n",
       "      <td>268.394402</td>\n",
       "    </tr>\n",
       "    <tr>\n",
       "      <th>ZAR</th>\n",
       "      <td>True</td>\n",
       "      <td>1694509503</td>\n",
       "      <td>EUR</td>\n",
       "      <td>2023-09-12</td>\n",
       "      <td>20.258261</td>\n",
       "    </tr>\n",
       "    <tr>\n",
       "      <th>ZMK</th>\n",
       "      <td>True</td>\n",
       "      <td>1694509503</td>\n",
       "      <td>EUR</td>\n",
       "      <td>2023-09-12</td>\n",
       "      <td>9649.967959</td>\n",
       "    </tr>\n",
       "    <tr>\n",
       "      <th>ZMW</th>\n",
       "      <td>True</td>\n",
       "      <td>1694509503</td>\n",
       "      <td>EUR</td>\n",
       "      <td>2023-09-12</td>\n",
       "      <td>22.408414</td>\n",
       "    </tr>\n",
       "    <tr>\n",
       "      <th>ZWL</th>\n",
       "      <td>True</td>\n",
       "      <td>1694509503</td>\n",
       "      <td>EUR</td>\n",
       "      <td>2023-09-12</td>\n",
       "      <td>345.207887</td>\n",
       "    </tr>\n",
       "  </tbody>\n",
       "</table>\n",
       "<p>170 rows × 5 columns</p>\n",
       "</div>"
      ],
      "text/plain": [
       "     success   timestamp base        date        rates\n",
       "AED     True  1694509503  EUR  2023-09-12     3.937787\n",
       "AFN     True  1694509503  EUR  2023-09-12    83.658613\n",
       "ALL     True  1694509503  EUR  2023-09-12   106.769500\n",
       "AMD     True  1694509503  EUR  2023-09-12   412.507531\n",
       "ANG     True  1694509503  EUR  2023-09-12     1.930033\n",
       "..       ...         ...  ...         ...          ...\n",
       "YER     True  1694509503  EUR  2023-09-12   268.394402\n",
       "ZAR     True  1694509503  EUR  2023-09-12    20.258261\n",
       "ZMK     True  1694509503  EUR  2023-09-12  9649.967959\n",
       "ZMW     True  1694509503  EUR  2023-09-12    22.408414\n",
       "ZWL     True  1694509503  EUR  2023-09-12   345.207887\n",
       "\n",
       "[170 rows x 5 columns]"
      ]
     },
     "execution_count": 20,
     "metadata": {},
     "output_type": "execute_result"
    }
   ],
   "source": [
    "# Turn the data into a dataframe\n",
    "dataframe = pd.DataFrame(data)\n",
    "dataframe"
   ]
  },
  {
   "cell_type": "code",
   "execution_count": 21,
   "metadata": {
    "tags": []
   },
   "outputs": [
    {
     "data": {
      "text/html": [
       "<div>\n",
       "<style scoped>\n",
       "    .dataframe tbody tr th:only-of-type {\n",
       "        vertical-align: middle;\n",
       "    }\n",
       "\n",
       "    .dataframe tbody tr th {\n",
       "        vertical-align: top;\n",
       "    }\n",
       "\n",
       "    .dataframe thead th {\n",
       "        text-align: right;\n",
       "    }\n",
       "</style>\n",
       "<table border=\"1\" class=\"dataframe\">\n",
       "  <thead>\n",
       "    <tr style=\"text-align: right;\">\n",
       "      <th></th>\n",
       "      <th>rates</th>\n",
       "    </tr>\n",
       "  </thead>\n",
       "  <tbody>\n",
       "    <tr>\n",
       "      <th>AED</th>\n",
       "      <td>3.937787</td>\n",
       "    </tr>\n",
       "    <tr>\n",
       "      <th>AFN</th>\n",
       "      <td>83.658613</td>\n",
       "    </tr>\n",
       "    <tr>\n",
       "      <th>ALL</th>\n",
       "      <td>106.769500</td>\n",
       "    </tr>\n",
       "    <tr>\n",
       "      <th>AMD</th>\n",
       "      <td>412.507531</td>\n",
       "    </tr>\n",
       "    <tr>\n",
       "      <th>ANG</th>\n",
       "      <td>1.930033</td>\n",
       "    </tr>\n",
       "    <tr>\n",
       "      <th>...</th>\n",
       "      <td>...</td>\n",
       "    </tr>\n",
       "    <tr>\n",
       "      <th>YER</th>\n",
       "      <td>268.394402</td>\n",
       "    </tr>\n",
       "    <tr>\n",
       "      <th>ZAR</th>\n",
       "      <td>20.258261</td>\n",
       "    </tr>\n",
       "    <tr>\n",
       "      <th>ZMK</th>\n",
       "      <td>9649.967959</td>\n",
       "    </tr>\n",
       "    <tr>\n",
       "      <th>ZMW</th>\n",
       "      <td>22.408414</td>\n",
       "    </tr>\n",
       "    <tr>\n",
       "      <th>ZWL</th>\n",
       "      <td>345.207887</td>\n",
       "    </tr>\n",
       "  </tbody>\n",
       "</table>\n",
       "<p>170 rows × 1 columns</p>\n",
       "</div>"
      ],
      "text/plain": [
       "           rates\n",
       "AED     3.937787\n",
       "AFN    83.658613\n",
       "ALL   106.769500\n",
       "AMD   412.507531\n",
       "ANG     1.930033\n",
       "..           ...\n",
       "YER   268.394402\n",
       "ZAR    20.258261\n",
       "ZMK  9649.967959\n",
       "ZMW    22.408414\n",
       "ZWL   345.207887\n",
       "\n",
       "[170 rows x 1 columns]"
      ]
     },
     "execution_count": 21,
     "metadata": {},
     "output_type": "execute_result"
    }
   ],
   "source": [
    "# Drop unnescessary columns\n",
    "df=dataframe.drop(['success','timestamp','base','date'], axis=1)\n",
    "df"
   ]
  },
  {
   "cell_type": "markdown",
   "metadata": {},
   "source": [
    "### Load the Data\n",
    "\n",
    "Using the dataframe save it as a CSV names `exchange_rates_1.csv`.\n"
   ]
  },
  {
   "cell_type": "code",
   "execution_count": 22,
   "metadata": {
    "tags": []
   },
   "outputs": [],
   "source": [
    "# Save the Dataframe\n",
    "df.to_csv(\"exchange_rates_1.csv\")"
   ]
  },
  {
   "cell_type": "markdown",
   "metadata": {},
   "source": [
    "Your CSV should be in this format with more currencies\n",
    "\n",
    "| | Rates |\n",
    "| ------- | ------- |\n",
    "|  AED| 4.398618    |\n",
    "|  AFN| 92.917693   |  \n",
    "|  ALL| 123.099093  |\n",
    "|  AMD| 621.935674  |\n",
    "|  ANG| 2.149648    | \n"
   ]
  },
  {
   "cell_type": "markdown",
   "metadata": {},
   "source": [
    "## Authors\n"
   ]
  },
  {
   "cell_type": "markdown",
   "metadata": {},
   "source": [
    "Ramesh Sannareddy, Joseph Santarcangelo and Azim Hirjani\n"
   ]
  },
  {
   "cell_type": "markdown",
   "metadata": {},
   "source": [
    "### Other Contributors\n"
   ]
  },
  {
   "cell_type": "markdown",
   "metadata": {},
   "source": [
    "Rav Ahuja\n"
   ]
  },
  {
   "cell_type": "markdown",
   "metadata": {},
   "source": [
    "## Change Log\n"
   ]
  },
  {
   "cell_type": "markdown",
   "metadata": {},
   "source": [
    "| Date (YYYY-MM-DD) | Version | Changed By        | Change Description                 |\n",
    "| ----------------- | ------- | ----------------- | ---------------------------------- |\n",
    "| 2022-05-06        | 0.3     | Malika            | Updated instructions to get the API and the url|\n",
    "| 2021-04-15        | 0.2     | Malika            | Updated the lab from USD to EUR    |\n",
    "| 2020-11-25        | 0.1     | Ramesh Sannareddy | Created initial version of the lab |\n"
   ]
  },
  {
   "cell_type": "markdown",
   "metadata": {},
   "source": [
    " Copyright © 2020 IBM Corporation. This notebook and its source code are released under the terms of the [MIT License](https://cognitiveclass.ai/mit-license?utm_medium=Exinfluencer&utm_source=Exinfluencer&utm_content=000026UJ&utm_term=10006555&utm_id=NA-SkillsNetwork-Channel-SkillsNetworkCoursesIBMDeveloperSkillsNetworkPY0221ENSkillsNetwork899-2023-01-01&cm_mmc=Email_Newsletter-_-Developer_Ed%2BTech-_-WW_WW-_-SkillsNetwork-Courses-IBM-DA0321EN-SkillsNetwork-21426264&cm_mmca1=000026UJ&cm_mmca2=10006555&cm_mmca3=M12345678&cvosrc=email.Newsletter.M12345678&cvo_campaign=000026UJ).\n"
   ]
  }
 ],
 "metadata": {
  "kernelspec": {
   "display_name": "Python",
   "language": "python",
   "name": "conda-env-python-py"
  },
  "language_info": {
   "codemirror_mode": {
    "name": "ipython",
    "version": 3
   },
   "file_extension": ".py",
   "mimetype": "text/x-python",
   "name": "python",
   "nbconvert_exporter": "python",
   "pygments_lexer": "ipython3",
   "version": "3.7.12"
  }
 },
 "nbformat": 4,
 "nbformat_minor": 4
}
